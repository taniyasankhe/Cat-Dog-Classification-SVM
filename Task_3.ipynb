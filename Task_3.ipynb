{
 "cells": [
  {
   "cell_type": "markdown",
   "metadata": {},
   "source": [
    "Prodigy Task 3 \n",
    "\n",
    "Task 3 : Implement a support vector machine (SVM) to classify images of cats and dogs from the Kaggle dataset."
   ]
  },
  {
   "cell_type": "code",
   "execution_count": 26,
   "metadata": {},
   "outputs": [],
   "source": [
    "from zipfile import ZipFile\n",
    "\n",
    "dataset_train = \"C:\\\\Users\\\\hp\\\\OneDrive\\\\Documents\\\\Prodigy InfoTech\\\\Task_3\\\\training_set.zip\"\n",
    "\n",
    "with ZipFile(dataset_train, 'r') as zip:\n",
    "    zip.extractall()\n"
   ]
  },
  {
   "cell_type": "code",
   "execution_count": 27,
   "metadata": {},
   "outputs": [],
   "source": [
    "import os\n",
    "import numpy as np\n",
    "from sklearn.svm import SVC\n",
    "from sklearn.metrics import accuracy_score\n",
    "from sklearn.model_selection import train_test_split"
   ]
  },
  {
   "cell_type": "code",
   "execution_count": 32,
   "metadata": {},
   "outputs": [
    {
     "name": "stdout",
     "output_type": "stream",
     "text": [
      "Requirement already satisfied: scikit-image in c:\\users\\hp\\appdata\\local\\programs\\python\\python311\\lib\\site-packages (0.23.2)\n",
      "Requirement already satisfied: numpy>=1.23 in c:\\users\\hp\\appdata\\local\\programs\\python\\python311\\lib\\site-packages (from scikit-image) (1.26.4)\n",
      "Requirement already satisfied: scipy>=1.9 in c:\\users\\hp\\appdata\\local\\programs\\python\\python311\\lib\\site-packages (from scikit-image) (1.13.0)\n",
      "Requirement already satisfied: networkx>=2.8 in c:\\users\\hp\\appdata\\local\\programs\\python\\python311\\lib\\site-packages (from scikit-image) (3.3)\n",
      "Requirement already satisfied: pillow>=9.1 in c:\\users\\hp\\appdata\\local\\programs\\python\\python311\\lib\\site-packages (from scikit-image) (10.3.0)\n",
      "Requirement already satisfied: imageio>=2.33 in c:\\users\\hp\\appdata\\local\\programs\\python\\python311\\lib\\site-packages (from scikit-image) (2.34.1)\n",
      "Requirement already satisfied: tifffile>=2022.8.12 in c:\\users\\hp\\appdata\\local\\programs\\python\\python311\\lib\\site-packages (from scikit-image) (2024.4.24)\n",
      "Requirement already satisfied: packaging>=21 in c:\\users\\hp\\appdata\\local\\programs\\python\\python311\\lib\\site-packages (from scikit-image) (24.0)\n",
      "Requirement already satisfied: lazy-loader>=0.4 in c:\\users\\hp\\appdata\\local\\programs\\python\\python311\\lib\\site-packages (from scikit-image) (0.4)\n",
      "Note: you may need to restart the kernel to use updated packages.\n"
     ]
    }
   ],
   "source": [
    "pip install scikit-image"
   ]
  },
  {
   "cell_type": "code",
   "execution_count": 33,
   "metadata": {},
   "outputs": [],
   "source": [
    "from skimage import io, transform"
   ]
  },
  {
   "cell_type": "code",
   "execution_count": 30,
   "metadata": {},
   "outputs": [],
   "source": [
    "def load_images_from_folder(folder, label):\n",
    "  images = []\n",
    "  labels = []\n",
    "  for filename in os.listdir(folder):\n",
    "    if not filename.startswith('.'):  # Ignore hidden files starting with '.'\n",
    "      img_path = os.path.join(folder, filename)\n",
    "      try:\n",
    "        img = io.imread(img_path)\n",
    "        if img is not None:\n",
    "          img = transform.resize(img, (100, 100))  # Resize image to (100, 100)\n",
    "          images.append(img)\n",
    "          labels.append(label)\n",
    "      except (IOError, OSError):\n",
    "        print(f\"Error reading image: {img_path}\")  # Handle potential errors gracefully\n",
    "  return images, labels\n"
   ]
  },
  {
   "cell_type": "code",
   "execution_count": 31,
   "metadata": {},
   "outputs": [
    {
     "name": "stdout",
     "output_type": "stream",
     "text": [
      "Error reading image: C:\\Users\\hp\\OneDrive\\Documents\\Prodigy InfoTech\\Task_3\\training_set\\cats\\_DS_Store\n",
      "Error reading image: C:\\Users\\hp\\OneDrive\\Documents\\Prodigy InfoTech\\Task_3\\training_set\\dogs\\_DS_Store\n"
     ]
    }
   ],
   "source": [
    "# Load images of cats and dogs from respective folders\n",
    "cats_images, cats_labels = load_images_from_folder('C:\\\\Users\\\\hp\\\\OneDrive\\\\Documents\\\\Prodigy InfoTech\\\\Task_3\\\\training_set\\\\cats', 0)  # Label 0 for cats\n",
    "dogs_images, dogs_labels = load_images_from_folder('C:\\\\Users\\\\hp\\\\OneDrive\\\\Documents\\\\Prodigy InfoTech\\\\Task_3\\\\training_set\\\\dogs', 1)  # Label 1 for dogs\n"
   ]
  },
  {
   "cell_type": "code",
   "execution_count": 34,
   "metadata": {},
   "outputs": [],
   "source": [
    "# Combine cat and dog images and labels\n",
    "images = cats_images + dogs_images\n",
    "labels = cats_labels + dogs_labels"
   ]
  },
  {
   "cell_type": "code",
   "execution_count": 35,
   "metadata": {},
   "outputs": [],
   "source": [
    "# Convert lists to numpy arrays\n",
    "X = np.array(images)\n",
    "y = np.array(labels)"
   ]
  },
  {
   "cell_type": "code",
   "execution_count": 36,
   "metadata": {},
   "outputs": [],
   "source": [
    "# Split data into training and testing sets\n",
    "X_train, X_test, y_train, y_test = train_test_split(X, y, test_size=0.2, random_state=42)"
   ]
  },
  {
   "cell_type": "code",
   "execution_count": 38,
   "metadata": {},
   "outputs": [],
   "source": [
    "# Assuming X_train has shape (samples, height, width)\n",
    "X_train_reshaped = X_train.reshape(X_train.shape[0], -1)  # Flatten to (samples, features)\n",
    "svm_model.fit(X_train_reshaped, y_train)\n"
   ]
  },
  {
   "cell_type": "code",
   "execution_count": null,
   "metadata": {},
   "outputs": [],
   "source": [
    "# Train SVM model\n",
    "svm_model = SVC(kernel='linear')  # Use linear kernel\n",
    "svm_model.fit(X_train, y_train)"
   ]
  },
  {
   "cell_type": "code",
   "execution_count": null,
   "metadata": {},
   "outputs": [],
   "source": [
    "# Predict on testing set\n",
    "y_pred = svm_model.predict(X_test)"
   ]
  },
  {
   "cell_type": "code",
   "execution_count": null,
   "metadata": {},
   "outputs": [],
   "source": [
    "# Calculate accuracy\n",
    "accuracy = accuracy_score(y_test, y_pred)\n",
    "print(\"Accuracy:\", accuracy)"
   ]
  }
 ],
 "metadata": {
  "kernelspec": {
   "display_name": "Python 3",
   "language": "python",
   "name": "python3"
  },
  "language_info": {
   "codemirror_mode": {
    "name": "ipython",
    "version": 3
   },
   "file_extension": ".py",
   "mimetype": "text/x-python",
   "name": "python",
   "nbconvert_exporter": "python",
   "pygments_lexer": "ipython3",
   "version": "3.11.0"
  }
 },
 "nbformat": 4,
 "nbformat_minor": 2
}
